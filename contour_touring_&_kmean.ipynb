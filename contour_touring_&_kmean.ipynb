{
  "nbformat": 4,
  "nbformat_minor": 0,
  "metadata": {
    "colab": {
      "provenance": []
    },
    "kernelspec": {
      "name": "python3",
      "display_name": "Python 3"
    },
    "language_info": {
      "name": "python"
    }
  },
  "cells": [
    {
      "cell_type": "code",
      "execution_count": null,
      "metadata": {
        "id": "f7nrsnS9UmFy"
      },
      "outputs": [],
      "source": []
    },
    {
      "cell_type": "code",
      "source": [
        "!mkdir '/content/drive/MyDrive/files/lumpy'"
      ],
      "metadata": {
        "id": "N92fwjGOUmmd"
      },
      "execution_count": null,
      "outputs": []
    },
    {
      "cell_type": "code",
      "source": [
        "!mkdir '/content/llsd/Lumpy Skin'\n",
        "!mkdir '/content/llsd/Normal Skin'"
      ],
      "metadata": {
        "id": "2vq-W-tTXZPs"
      },
      "execution_count": null,
      "outputs": []
    },
    {
      "cell_type": "code",
      "source": [
        "import cv2\n",
        "import os\n",
        "\n",
        "# Set input and output directories\n",
        "input_dir = '/content/drive/MyDrive/files/data2/data1/Lumpy Skin'\n",
        "output_dir = '/content/llsd/Lumpy Skin'\n",
        "\n",
        "# Loop through each file in the input directory\n",
        "for filename in os.listdir(input_dir):\n",
        "    if filename.endswith('.jpg') or filename.endswith('.png'):\n",
        "        # Load the image\n",
        "        img = cv2.imread(os.path.join(input_dir, filename))\n",
        "        \n",
        "        # Convert the image to grayscale\n",
        "        gray = cv2.cvtColor(img, cv2.COLOR_BGR2GRAY)\n",
        "        \n",
        "        # Apply thresholding to obtain a binary image\n",
        "        ret, thresh = cv2.threshold(gray, 0, 255, cv2.THRESH_BINARY_INV+cv2.THRESH_OTSU)\n",
        "        \n",
        "        # Find contours in the binary image\n",
        "        contours, hierarchy = cv2.findContours(thresh, cv2.RETR_TREE, cv2.CHAIN_APPROX_SIMPLE)\n",
        "        \n",
        "        # Draw contours on the original image\n",
        "        img_contours = cv2.drawContours(img, contours, -1, (0, 255, 0), 1)\n",
        "        \n",
        "        # Save the image in the output directory\n",
        "        cv2.imwrite(os.path.join(output_dir, filename), img_contours)\n"
      ],
      "metadata": {
        "id": "R66ipXrdWHZR"
      },
      "execution_count": null,
      "outputs": []
    },
    {
      "cell_type": "code",
      "source": [],
      "metadata": {
        "id": "V3AhMOgS8vQ6"
      },
      "execution_count": null,
      "outputs": []
    },
    {
      "cell_type": "code",
      "source": [
        "!mkdir '/content/llssd'"
      ],
      "metadata": {
        "id": "DBQbqVR98vfu"
      },
      "execution_count": 7,
      "outputs": []
    },
    {
      "cell_type": "code",
      "source": [
        "!mkdir '/content/llssd/Lumpy Skin'\n",
        "!mkdir '/content/llssd/Normal Skin'"
      ],
      "metadata": {
        "id": "y1OB2FW18vfw"
      },
      "execution_count": 8,
      "outputs": []
    },
    {
      "cell_type": "code",
      "source": [
        "import shutil\n",
        "\n",
        "# Set the folder to zip and download\n",
        "folder_to_zip = '/content/llsd'\n",
        "\n",
        "# Zip the folder\n",
        "shutil.make_archive('llsd_kmean', 'zip', folder_to_zip)\n",
        "\n",
        "# Download the zip file\n",
        "from google.colab import files\n",
        "files.download('llsd_kmean.zip')\n"
      ],
      "metadata": {
        "colab": {
          "base_uri": "https://localhost:8080/",
          "height": 17
        },
        "id": "qFQzf_oTWjTN",
        "outputId": "92c302d7-d1f3-466d-cd46-4e65f5f1326d"
      },
      "execution_count": 17,
      "outputs": [
        {
          "output_type": "display_data",
          "data": {
            "text/plain": [
              "<IPython.core.display.Javascript object>"
            ],
            "application/javascript": [
              "\n",
              "    async function download(id, filename, size) {\n",
              "      if (!google.colab.kernel.accessAllowed) {\n",
              "        return;\n",
              "      }\n",
              "      const div = document.createElement('div');\n",
              "      const label = document.createElement('label');\n",
              "      label.textContent = `Downloading \"${filename}\": `;\n",
              "      div.appendChild(label);\n",
              "      const progress = document.createElement('progress');\n",
              "      progress.max = size;\n",
              "      div.appendChild(progress);\n",
              "      document.body.appendChild(div);\n",
              "\n",
              "      const buffers = [];\n",
              "      let downloaded = 0;\n",
              "\n",
              "      const channel = await google.colab.kernel.comms.open(id);\n",
              "      // Send a message to notify the kernel that we're ready.\n",
              "      channel.send({})\n",
              "\n",
              "      for await (const message of channel.messages) {\n",
              "        // Send a message to notify the kernel that we're ready.\n",
              "        channel.send({})\n",
              "        if (message.buffers) {\n",
              "          for (const buffer of message.buffers) {\n",
              "            buffers.push(buffer);\n",
              "            downloaded += buffer.byteLength;\n",
              "            progress.value = downloaded;\n",
              "          }\n",
              "        }\n",
              "      }\n",
              "      const blob = new Blob(buffers, {type: 'application/binary'});\n",
              "      const a = document.createElement('a');\n",
              "      a.href = window.URL.createObjectURL(blob);\n",
              "      a.download = filename;\n",
              "      div.appendChild(a);\n",
              "      a.click();\n",
              "      div.remove();\n",
              "    }\n",
              "  "
            ]
          },
          "metadata": {}
        },
        {
          "output_type": "display_data",
          "data": {
            "text/plain": [
              "<IPython.core.display.Javascript object>"
            ],
            "application/javascript": [
              "download(\"download_c41c784c-1f1d-47a1-a954-127a1c6db43a\", \"llsd_kmean.zip\", 31452392)"
            ]
          },
          "metadata": {}
        }
      ]
    },
    {
      "cell_type": "code",
      "source": [
        "import cv2\n",
        "import numpy as np\n",
        "import os\n",
        "\n",
        "def kmeans(img, k=3):\n",
        "    # Reshape the image to a 2D array of pixels\n",
        "    img_flat = img.reshape((-1, 3))\n",
        "    # Convert to float32\n",
        "    img_flat = np.float32(img_flat)\n",
        "    # Define the criteria for the algorithm to stop\n",
        "    criteria = (cv2.TERM_CRITERIA_EPS + cv2.TERM_CRITERIA_MAX_ITER, 10, 1.0)\n",
        "    # Perform k-means clustering\n",
        "    _, labels, centers = cv2.kmeans(img_flat, k, None, criteria, 10, cv2.KMEANS_RANDOM_CENTERS)\n",
        "    # Reshape the labels to the original image shape\n",
        "    labels = labels.reshape(img.shape[:2])\n",
        "    # Convert the centers to uint8\n",
        "    centers = np.uint8(centers)\n",
        "    # Apply the labels to the image\n",
        "    res = centers[labels]\n",
        "    return res\n",
        "\n",
        "input_dir = '/content/drive/MyDrive/files/data2/data1/Lumpy Skin'\n",
        "output_dir = '/content/llsd/Lumpy Skin'\n",
        "\n",
        "for filename in os.listdir(input_dir):\n",
        "    if filename.endswith(\".jpg\"):\n",
        "        # Read the image\n",
        "        img = cv2.imread(os.path.join(input_dir, filename))\n",
        "        # Apply k-means clustering\n",
        "        res = kmeans(img)\n",
        "        # Save the processed image to the output directory\n",
        "        cv2.imwrite(os.path.join(output_dir, filename), res)\n",
        "\n"
      ],
      "metadata": {
        "id": "0yAIaYdg-5NK"
      },
      "execution_count": 16,
      "outputs": []
    }
  ]
}